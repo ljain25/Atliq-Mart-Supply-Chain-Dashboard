{
 "cells": [
  {
   "cell_type": "code",
   "execution_count": 31,
   "id": "bd062885-2448-4b12-a14d-f54664864b10",
   "metadata": {},
   "outputs": [],
   "source": [
    "import pandas as pd\n",
    "import numpy as np\n",
    "import os\n",
    "import glob"
   ]
  },
  {
   "cell_type": "code",
   "execution_count": 32,
   "id": "d76ff626-1913-445f-aed6-c1f6015000fc",
   "metadata": {},
   "outputs": [
    {
     "name": "stdout",
     "output_type": "stream",
     "text": [
      "['dim_customers.csv', 'dim_products.csv', 'dim_targets_orders.csv', 'fact_orders_aggregate.csv', 'fact_order_lines.csv']\n"
     ]
    }
   ],
   "source": [
    "path = 'C://Users/Laveena/Desktop/Laveena_all_folders/Projects/Supply Chain ATLIQ mart/Atliq-Mart-Supply-Chain-Dashboard'\n",
    "extension = 'csv'\n",
    "os.chdir(path)\n",
    "result = glob.glob(f'*.{extension}')\n",
    "print(result)"
   ]
  },
  {
   "cell_type": "code",
   "execution_count": 33,
   "id": "e131074b-ef49-4b6f-8113-2fd2cd7f0ce4",
   "metadata": {},
   "outputs": [],
   "source": [
    "customers = pd.read_csv(result[0])\n",
    "products = pd.read_csv(result[1])\n",
    "target_orders = pd.read_csv(result[2])\n",
    "orders_aggregate = pd.read_csv(result[3])\n",
    "order_lines = pd.read_csv(result[4])"
   ]
  },
  {
   "cell_type": "code",
   "execution_count": 34,
   "id": "1105875e-a094-40d4-b976-107aa451b58f",
   "metadata": {},
   "outputs": [
    {
     "data": {
      "text/html": [
       "<div>\n",
       "<style scoped>\n",
       "    .dataframe tbody tr th:only-of-type {\n",
       "        vertical-align: middle;\n",
       "    }\n",
       "\n",
       "    .dataframe tbody tr th {\n",
       "        vertical-align: top;\n",
       "    }\n",
       "\n",
       "    .dataframe thead th {\n",
       "        text-align: right;\n",
       "    }\n",
       "</style>\n",
       "<table border=\"1\" class=\"dataframe\">\n",
       "  <thead>\n",
       "    <tr style=\"text-align: right;\">\n",
       "      <th></th>\n",
       "      <th>customer_id</th>\n",
       "      <th>customer_name</th>\n",
       "      <th>city</th>\n",
       "    </tr>\n",
       "  </thead>\n",
       "  <tbody>\n",
       "    <tr>\n",
       "      <th>0</th>\n",
       "      <td>789201</td>\n",
       "      <td>Rel Fresh</td>\n",
       "      <td>Surat</td>\n",
       "    </tr>\n",
       "    <tr>\n",
       "      <th>1</th>\n",
       "      <td>789202</td>\n",
       "      <td>Rel Fresh</td>\n",
       "      <td>Ahmedabad</td>\n",
       "    </tr>\n",
       "    <tr>\n",
       "      <th>2</th>\n",
       "      <td>789203</td>\n",
       "      <td>Rel Fresh</td>\n",
       "      <td>Vadodara</td>\n",
       "    </tr>\n",
       "  </tbody>\n",
       "</table>\n",
       "</div>"
      ],
      "text/plain": [
       "   customer_id customer_name       city\n",
       "0       789201     Rel Fresh      Surat\n",
       "1       789202     Rel Fresh  Ahmedabad\n",
       "2       789203     Rel Fresh   Vadodara"
      ]
     },
     "execution_count": 34,
     "metadata": {},
     "output_type": "execute_result"
    }
   ],
   "source": [
    "customers.head(3)"
   ]
  },
  {
   "cell_type": "code",
   "execution_count": 35,
   "id": "662cd868-270f-4aa5-aecf-121aeb4f0683",
   "metadata": {},
   "outputs": [
    {
     "data": {
      "text/html": [
       "<div>\n",
       "<style scoped>\n",
       "    .dataframe tbody tr th:only-of-type {\n",
       "        vertical-align: middle;\n",
       "    }\n",
       "\n",
       "    .dataframe tbody tr th {\n",
       "        vertical-align: top;\n",
       "    }\n",
       "\n",
       "    .dataframe thead th {\n",
       "        text-align: right;\n",
       "    }\n",
       "</style>\n",
       "<table border=\"1\" class=\"dataframe\">\n",
       "  <thead>\n",
       "    <tr style=\"text-align: right;\">\n",
       "      <th></th>\n",
       "      <th>product_name</th>\n",
       "      <th>product_id</th>\n",
       "      <th>category</th>\n",
       "    </tr>\n",
       "  </thead>\n",
       "  <tbody>\n",
       "    <tr>\n",
       "      <th>0</th>\n",
       "      <td>AM Milk 500</td>\n",
       "      <td>25891101</td>\n",
       "      <td>Dairy</td>\n",
       "    </tr>\n",
       "    <tr>\n",
       "      <th>1</th>\n",
       "      <td>AM Milk 250</td>\n",
       "      <td>25891102</td>\n",
       "      <td>Dairy</td>\n",
       "    </tr>\n",
       "    <tr>\n",
       "      <th>2</th>\n",
       "      <td>AM Milk 100</td>\n",
       "      <td>25891103</td>\n",
       "      <td>Dairy</td>\n",
       "    </tr>\n",
       "  </tbody>\n",
       "</table>\n",
       "</div>"
      ],
      "text/plain": [
       "  product_name  product_id category\n",
       "0  AM Milk 500    25891101    Dairy\n",
       "1  AM Milk 250    25891102    Dairy\n",
       "2  AM Milk 100    25891103    Dairy"
      ]
     },
     "execution_count": 35,
     "metadata": {},
     "output_type": "execute_result"
    }
   ],
   "source": [
    "products.head(3)\n",
    "\n",
    "# split product name into \"product\" and \"variant\""
   ]
  },
  {
   "cell_type": "code",
   "execution_count": 36,
   "id": "a0af5ea1-8cbf-4b1e-aee5-da0fba411b28",
   "metadata": {},
   "outputs": [
    {
     "data": {
      "text/html": [
       "<div>\n",
       "<style scoped>\n",
       "    .dataframe tbody tr th:only-of-type {\n",
       "        vertical-align: middle;\n",
       "    }\n",
       "\n",
       "    .dataframe tbody tr th {\n",
       "        vertical-align: top;\n",
       "    }\n",
       "\n",
       "    .dataframe thead th {\n",
       "        text-align: right;\n",
       "    }\n",
       "</style>\n",
       "<table border=\"1\" class=\"dataframe\">\n",
       "  <thead>\n",
       "    <tr style=\"text-align: right;\">\n",
       "      <th></th>\n",
       "      <th>customer_id</th>\n",
       "      <th>ontime_target%</th>\n",
       "      <th>infull_target%</th>\n",
       "      <th>otif_target%</th>\n",
       "    </tr>\n",
       "  </thead>\n",
       "  <tbody>\n",
       "    <tr>\n",
       "      <th>0</th>\n",
       "      <td>789201</td>\n",
       "      <td>87</td>\n",
       "      <td>81</td>\n",
       "      <td>70</td>\n",
       "    </tr>\n",
       "    <tr>\n",
       "      <th>1</th>\n",
       "      <td>789202</td>\n",
       "      <td>85</td>\n",
       "      <td>81</td>\n",
       "      <td>69</td>\n",
       "    </tr>\n",
       "    <tr>\n",
       "      <th>2</th>\n",
       "      <td>789203</td>\n",
       "      <td>92</td>\n",
       "      <td>76</td>\n",
       "      <td>70</td>\n",
       "    </tr>\n",
       "  </tbody>\n",
       "</table>\n",
       "</div>"
      ],
      "text/plain": [
       "   customer_id  ontime_target%  infull_target%  otif_target%\n",
       "0       789201              87              81            70\n",
       "1       789202              85              81            69\n",
       "2       789203              92              76            70"
      ]
     },
     "execution_count": 36,
     "metadata": {},
     "output_type": "execute_result"
    }
   ],
   "source": [
    "target_orders.head(3)\n",
    "\n",
    "# Rename columns"
   ]
  },
  {
   "cell_type": "code",
   "execution_count": 37,
   "id": "0a02b3b7-b4f4-47f9-bb75-016ed28b70ca",
   "metadata": {},
   "outputs": [
    {
     "data": {
      "text/html": [
       "<div>\n",
       "<style scoped>\n",
       "    .dataframe tbody tr th:only-of-type {\n",
       "        vertical-align: middle;\n",
       "    }\n",
       "\n",
       "    .dataframe tbody tr th {\n",
       "        vertical-align: top;\n",
       "    }\n",
       "\n",
       "    .dataframe thead th {\n",
       "        text-align: right;\n",
       "    }\n",
       "</style>\n",
       "<table border=\"1\" class=\"dataframe\">\n",
       "  <thead>\n",
       "    <tr style=\"text-align: right;\">\n",
       "      <th></th>\n",
       "      <th>order_id</th>\n",
       "      <th>customer_id</th>\n",
       "      <th>order_placement_date</th>\n",
       "      <th>on_time</th>\n",
       "      <th>in_full</th>\n",
       "      <th>otif</th>\n",
       "    </tr>\n",
       "  </thead>\n",
       "  <tbody>\n",
       "    <tr>\n",
       "      <th>0</th>\n",
       "      <td>FMR32103503</td>\n",
       "      <td>789103</td>\n",
       "      <td>01-Mar-22</td>\n",
       "      <td>1</td>\n",
       "      <td>0</td>\n",
       "      <td>0</td>\n",
       "    </tr>\n",
       "    <tr>\n",
       "      <th>1</th>\n",
       "      <td>FMR34103403</td>\n",
       "      <td>789103</td>\n",
       "      <td>01-Mar-22</td>\n",
       "      <td>1</td>\n",
       "      <td>0</td>\n",
       "      <td>0</td>\n",
       "    </tr>\n",
       "    <tr>\n",
       "      <th>2</th>\n",
       "      <td>FMR32103602</td>\n",
       "      <td>789103</td>\n",
       "      <td>01-Mar-22</td>\n",
       "      <td>1</td>\n",
       "      <td>0</td>\n",
       "      <td>0</td>\n",
       "    </tr>\n",
       "  </tbody>\n",
       "</table>\n",
       "</div>"
      ],
      "text/plain": [
       "      order_id  customer_id order_placement_date  on_time  in_full  otif\n",
       "0  FMR32103503       789103            01-Mar-22        1        0     0\n",
       "1  FMR34103403       789103            01-Mar-22        1        0     0\n",
       "2  FMR32103602       789103            01-Mar-22        1        0     0"
      ]
     },
     "execution_count": 37,
     "metadata": {},
     "output_type": "execute_result"
    }
   ],
   "source": [
    "orders_aggregate.head(3)\n",
    "\n",
    "# changE date format"
   ]
  },
  {
   "cell_type": "code",
   "execution_count": 38,
   "id": "7ca7d827-23fe-4172-a610-5100df75add3",
   "metadata": {},
   "outputs": [
    {
     "data": {
      "text/html": [
       "<div>\n",
       "<style scoped>\n",
       "    .dataframe tbody tr th:only-of-type {\n",
       "        vertical-align: middle;\n",
       "    }\n",
       "\n",
       "    .dataframe tbody tr th {\n",
       "        vertical-align: top;\n",
       "    }\n",
       "\n",
       "    .dataframe thead th {\n",
       "        text-align: right;\n",
       "    }\n",
       "</style>\n",
       "<table border=\"1\" class=\"dataframe\">\n",
       "  <thead>\n",
       "    <tr style=\"text-align: right;\">\n",
       "      <th></th>\n",
       "      <th>order_id</th>\n",
       "      <th>order_placement_date</th>\n",
       "      <th>customer_id</th>\n",
       "      <th>product_id</th>\n",
       "      <th>order_qty</th>\n",
       "      <th>agreed_delivery_date</th>\n",
       "      <th>actual_delivery_date</th>\n",
       "      <th>delivery_qty</th>\n",
       "      <th>In Full</th>\n",
       "      <th>On Time</th>\n",
       "      <th>On Time In Full</th>\n",
       "    </tr>\n",
       "  </thead>\n",
       "  <tbody>\n",
       "    <tr>\n",
       "      <th>0</th>\n",
       "      <td>FMR34203601</td>\n",
       "      <td>Tuesday, March 1, 2022</td>\n",
       "      <td>789203</td>\n",
       "      <td>25891601</td>\n",
       "      <td>110</td>\n",
       "      <td>Friday, March 4, 2022</td>\n",
       "      <td>Friday, March 4, 2022</td>\n",
       "      <td>110</td>\n",
       "      <td>1</td>\n",
       "      <td>1</td>\n",
       "      <td>1</td>\n",
       "    </tr>\n",
       "    <tr>\n",
       "      <th>1</th>\n",
       "      <td>FMR32320302</td>\n",
       "      <td>Tuesday, March 1, 2022</td>\n",
       "      <td>789320</td>\n",
       "      <td>25891203</td>\n",
       "      <td>347</td>\n",
       "      <td>Wednesday, March 2, 2022</td>\n",
       "      <td>Wednesday, March 2, 2022</td>\n",
       "      <td>347</td>\n",
       "      <td>1</td>\n",
       "      <td>1</td>\n",
       "      <td>1</td>\n",
       "    </tr>\n",
       "    <tr>\n",
       "      <th>2</th>\n",
       "      <td>FMR33320501</td>\n",
       "      <td>Tuesday, March 1, 2022</td>\n",
       "      <td>789320</td>\n",
       "      <td>25891203</td>\n",
       "      <td>187</td>\n",
       "      <td>Thursday, March 3, 2022</td>\n",
       "      <td>Thursday, March 3, 2022</td>\n",
       "      <td>150</td>\n",
       "      <td>0</td>\n",
       "      <td>1</td>\n",
       "      <td>0</td>\n",
       "    </tr>\n",
       "  </tbody>\n",
       "</table>\n",
       "</div>"
      ],
      "text/plain": [
       "      order_id    order_placement_date  customer_id  product_id  order_qty  \\\n",
       "0  FMR34203601  Tuesday, March 1, 2022       789203    25891601        110   \n",
       "1  FMR32320302  Tuesday, March 1, 2022       789320    25891203        347   \n",
       "2  FMR33320501  Tuesday, March 1, 2022       789320    25891203        187   \n",
       "\n",
       "       agreed_delivery_date      actual_delivery_date  delivery_qty  In Full  \\\n",
       "0     Friday, March 4, 2022     Friday, March 4, 2022           110        1   \n",
       "1  Wednesday, March 2, 2022  Wednesday, March 2, 2022           347        1   \n",
       "2   Thursday, March 3, 2022   Thursday, March 3, 2022           150        0   \n",
       "\n",
       "   On Time  On Time In Full  \n",
       "0        1                1  \n",
       "1        1                1  \n",
       "2        1                0  "
      ]
     },
     "execution_count": 38,
     "metadata": {},
     "output_type": "execute_result"
    }
   ],
   "source": [
    "order_lines.head(3)\n",
    "\n",
    "# change the date formats\n",
    "# Rename columns"
   ]
  },
  {
   "cell_type": "markdown",
   "id": "c95dab68-a89e-4692-a620-7452f5940249",
   "metadata": {},
   "source": [
    "## FIXING COLUMNS"
   ]
  },
  {
   "cell_type": "markdown",
   "id": "d5eb420f-6a63-4c37-9ee2-b595a46f8ea6",
   "metadata": {},
   "source": [
    "***Changing to standard datetime column***"
   ]
  },
  {
   "cell_type": "code",
   "execution_count": 39,
   "id": "d96e6536-0ef7-4e52-a3f5-cc545b610319",
   "metadata": {},
   "outputs": [
    {
     "name": "stderr",
     "output_type": "stream",
     "text": [
      "C:\\Users\\Laveena\\AppData\\Local\\Temp\\ipykernel_31596\\879130646.py:1: UserWarning: Could not infer format, so each element will be parsed individually, falling back to `dateutil`. To ensure parsing is consistent and as-expected, please specify a format.\n",
      "  orders_aggregate[\"order_placement_date\"] = pd.to_datetime(orders_aggregate[\"order_placement_date\"])\n"
     ]
    }
   ],
   "source": [
    "orders_aggregate[\"order_placement_date\"] = pd.to_datetime(orders_aggregate[\"order_placement_date\"])"
   ]
  },
  {
   "cell_type": "code",
   "execution_count": 40,
   "id": "8140e9bf-4a2c-4df8-bca0-f824436f6b7a",
   "metadata": {},
   "outputs": [],
   "source": [
    "order_lines[\"agreed_delivery_date\"] = pd.to_datetime(order_lines[\"agreed_delivery_date\"])\n",
    "order_lines[\"actual_delivery_date\"] = pd.to_datetime(order_lines[\"actual_delivery_date\"])\n",
    "order_lines[\"order_placement_date\"] = pd.to_datetime(order_lines[\"order_placement_date\"])"
   ]
  },
  {
   "cell_type": "code",
   "execution_count": 41,
   "id": "02535f9c-98c9-4fdf-8cea-a530c2368843",
   "metadata": {},
   "outputs": [
    {
     "data": {
      "text/html": [
       "<div>\n",
       "<style scoped>\n",
       "    .dataframe tbody tr th:only-of-type {\n",
       "        vertical-align: middle;\n",
       "    }\n",
       "\n",
       "    .dataframe tbody tr th {\n",
       "        vertical-align: top;\n",
       "    }\n",
       "\n",
       "    .dataframe thead th {\n",
       "        text-align: right;\n",
       "    }\n",
       "</style>\n",
       "<table border=\"1\" class=\"dataframe\">\n",
       "  <thead>\n",
       "    <tr style=\"text-align: right;\">\n",
       "      <th></th>\n",
       "      <th>order_id</th>\n",
       "      <th>customer_id</th>\n",
       "      <th>order_placement_date</th>\n",
       "      <th>on_time</th>\n",
       "      <th>in_full</th>\n",
       "      <th>otif</th>\n",
       "    </tr>\n",
       "  </thead>\n",
       "  <tbody>\n",
       "    <tr>\n",
       "      <th>0</th>\n",
       "      <td>FMR32103503</td>\n",
       "      <td>789103</td>\n",
       "      <td>2022-03-01</td>\n",
       "      <td>1</td>\n",
       "      <td>0</td>\n",
       "      <td>0</td>\n",
       "    </tr>\n",
       "    <tr>\n",
       "      <th>1</th>\n",
       "      <td>FMR34103403</td>\n",
       "      <td>789103</td>\n",
       "      <td>2022-03-01</td>\n",
       "      <td>1</td>\n",
       "      <td>0</td>\n",
       "      <td>0</td>\n",
       "    </tr>\n",
       "    <tr>\n",
       "      <th>2</th>\n",
       "      <td>FMR32103602</td>\n",
       "      <td>789103</td>\n",
       "      <td>2022-03-01</td>\n",
       "      <td>1</td>\n",
       "      <td>0</td>\n",
       "      <td>0</td>\n",
       "    </tr>\n",
       "  </tbody>\n",
       "</table>\n",
       "</div>"
      ],
      "text/plain": [
       "      order_id  customer_id order_placement_date  on_time  in_full  otif\n",
       "0  FMR32103503       789103           2022-03-01        1        0     0\n",
       "1  FMR34103403       789103           2022-03-01        1        0     0\n",
       "2  FMR32103602       789103           2022-03-01        1        0     0"
      ]
     },
     "execution_count": 41,
     "metadata": {},
     "output_type": "execute_result"
    }
   ],
   "source": [
    "orders_aggregate.head(3)"
   ]
  },
  {
   "cell_type": "code",
   "execution_count": 42,
   "id": "d4973be6-6e2a-4246-ae0d-477285934e14",
   "metadata": {},
   "outputs": [
    {
     "data": {
      "text/html": [
       "<div>\n",
       "<style scoped>\n",
       "    .dataframe tbody tr th:only-of-type {\n",
       "        vertical-align: middle;\n",
       "    }\n",
       "\n",
       "    .dataframe tbody tr th {\n",
       "        vertical-align: top;\n",
       "    }\n",
       "\n",
       "    .dataframe thead th {\n",
       "        text-align: right;\n",
       "    }\n",
       "</style>\n",
       "<table border=\"1\" class=\"dataframe\">\n",
       "  <thead>\n",
       "    <tr style=\"text-align: right;\">\n",
       "      <th></th>\n",
       "      <th>order_id</th>\n",
       "      <th>order_placement_date</th>\n",
       "      <th>customer_id</th>\n",
       "      <th>product_id</th>\n",
       "      <th>order_qty</th>\n",
       "      <th>agreed_delivery_date</th>\n",
       "      <th>actual_delivery_date</th>\n",
       "      <th>delivery_qty</th>\n",
       "      <th>In Full</th>\n",
       "      <th>On Time</th>\n",
       "      <th>On Time In Full</th>\n",
       "    </tr>\n",
       "  </thead>\n",
       "  <tbody>\n",
       "    <tr>\n",
       "      <th>0</th>\n",
       "      <td>FMR34203601</td>\n",
       "      <td>2022-03-01</td>\n",
       "      <td>789203</td>\n",
       "      <td>25891601</td>\n",
       "      <td>110</td>\n",
       "      <td>2022-03-04</td>\n",
       "      <td>2022-03-04</td>\n",
       "      <td>110</td>\n",
       "      <td>1</td>\n",
       "      <td>1</td>\n",
       "      <td>1</td>\n",
       "    </tr>\n",
       "    <tr>\n",
       "      <th>1</th>\n",
       "      <td>FMR32320302</td>\n",
       "      <td>2022-03-01</td>\n",
       "      <td>789320</td>\n",
       "      <td>25891203</td>\n",
       "      <td>347</td>\n",
       "      <td>2022-03-02</td>\n",
       "      <td>2022-03-02</td>\n",
       "      <td>347</td>\n",
       "      <td>1</td>\n",
       "      <td>1</td>\n",
       "      <td>1</td>\n",
       "    </tr>\n",
       "    <tr>\n",
       "      <th>2</th>\n",
       "      <td>FMR33320501</td>\n",
       "      <td>2022-03-01</td>\n",
       "      <td>789320</td>\n",
       "      <td>25891203</td>\n",
       "      <td>187</td>\n",
       "      <td>2022-03-03</td>\n",
       "      <td>2022-03-03</td>\n",
       "      <td>150</td>\n",
       "      <td>0</td>\n",
       "      <td>1</td>\n",
       "      <td>0</td>\n",
       "    </tr>\n",
       "  </tbody>\n",
       "</table>\n",
       "</div>"
      ],
      "text/plain": [
       "      order_id order_placement_date  customer_id  product_id  order_qty  \\\n",
       "0  FMR34203601           2022-03-01       789203    25891601        110   \n",
       "1  FMR32320302           2022-03-01       789320    25891203        347   \n",
       "2  FMR33320501           2022-03-01       789320    25891203        187   \n",
       "\n",
       "  agreed_delivery_date actual_delivery_date  delivery_qty  In Full  On Time  \\\n",
       "0           2022-03-04           2022-03-04           110        1        1   \n",
       "1           2022-03-02           2022-03-02           347        1        1   \n",
       "2           2022-03-03           2022-03-03           150        0        1   \n",
       "\n",
       "   On Time In Full  \n",
       "0                1  \n",
       "1                1  \n",
       "2                0  "
      ]
     },
     "execution_count": 42,
     "metadata": {},
     "output_type": "execute_result"
    }
   ],
   "source": [
    "order_lines.head(3)"
   ]
  },
  {
   "cell_type": "markdown",
   "id": "17bc2aaf-d061-4674-9b63-f9c92b1c3749",
   "metadata": {},
   "source": [
    "***Splitting Product Name Column***"
   ]
  },
  {
   "cell_type": "code",
   "execution_count": 43,
   "id": "b7657259-e97f-4478-8f37-4ecc4e71e607",
   "metadata": {},
   "outputs": [],
   "source": [
    "products[\"product\"] = products[\"product_name\"].str.split(\" \").str[1]\n",
    "products[\"variant\"] = products[\"product_name\"].str.split(\" \").str[2]"
   ]
  },
  {
   "cell_type": "code",
   "execution_count": 44,
   "id": "8dfa7e52-3881-43a7-a397-676783ef3c17",
   "metadata": {},
   "outputs": [],
   "source": [
    "products.drop(columns = \"product_name\", inplace = True)"
   ]
  },
  {
   "cell_type": "code",
   "execution_count": 45,
   "id": "6f14dba5-2bb9-4843-9e28-f40f4edd35f0",
   "metadata": {},
   "outputs": [
    {
     "data": {
      "text/html": [
       "<div>\n",
       "<style scoped>\n",
       "    .dataframe tbody tr th:only-of-type {\n",
       "        vertical-align: middle;\n",
       "    }\n",
       "\n",
       "    .dataframe tbody tr th {\n",
       "        vertical-align: top;\n",
       "    }\n",
       "\n",
       "    .dataframe thead th {\n",
       "        text-align: right;\n",
       "    }\n",
       "</style>\n",
       "<table border=\"1\" class=\"dataframe\">\n",
       "  <thead>\n",
       "    <tr style=\"text-align: right;\">\n",
       "      <th></th>\n",
       "      <th>product_id</th>\n",
       "      <th>category</th>\n",
       "      <th>product</th>\n",
       "      <th>variant</th>\n",
       "    </tr>\n",
       "  </thead>\n",
       "  <tbody>\n",
       "    <tr>\n",
       "      <th>0</th>\n",
       "      <td>25891101</td>\n",
       "      <td>Dairy</td>\n",
       "      <td>Milk</td>\n",
       "      <td>500</td>\n",
       "    </tr>\n",
       "    <tr>\n",
       "      <th>1</th>\n",
       "      <td>25891102</td>\n",
       "      <td>Dairy</td>\n",
       "      <td>Milk</td>\n",
       "      <td>250</td>\n",
       "    </tr>\n",
       "    <tr>\n",
       "      <th>2</th>\n",
       "      <td>25891103</td>\n",
       "      <td>Dairy</td>\n",
       "      <td>Milk</td>\n",
       "      <td>100</td>\n",
       "    </tr>\n",
       "  </tbody>\n",
       "</table>\n",
       "</div>"
      ],
      "text/plain": [
       "   product_id category product variant\n",
       "0    25891101    Dairy    Milk     500\n",
       "1    25891102    Dairy    Milk     250\n",
       "2    25891103    Dairy    Milk     100"
      ]
     },
     "execution_count": 45,
     "metadata": {},
     "output_type": "execute_result"
    }
   ],
   "source": [
    "products.head(3)"
   ]
  },
  {
   "cell_type": "markdown",
   "id": "aa69b1dc-86c9-429b-b449-d721cc885e4e",
   "metadata": {},
   "source": [
    "***Renaming columns of order_lines with underscores***"
   ]
  },
  {
   "cell_type": "code",
   "execution_count": 46,
   "id": "0330111e-a5c4-4395-b573-4a2f3f29db96",
   "metadata": {},
   "outputs": [],
   "source": [
    "order_lines.rename(columns = {\"In Full\":\"in_full\",\n",
    "                             \"On Time\":\"on_time\",\n",
    "                             \"On Time In Full\":\"otif\"}, inplace = True)"
   ]
  },
  {
   "cell_type": "code",
   "execution_count": 47,
   "id": "fdac6eb4-0bce-4481-b24b-f09c4a2bb994",
   "metadata": {},
   "outputs": [],
   "source": [
    "target_orders.rename(columns = {\"ontime_target%\":\"ontime_target_percentage\",\n",
    "                             \"infull_target%\":\"infull_target_percentage\",\n",
    "                             \"otif_target%\":\"otif_target_percentage\"}, inplace = True)"
   ]
  },
  {
   "cell_type": "markdown",
   "id": "354d087e-5ff5-4093-9b8b-15d4a7201337",
   "metadata": {},
   "source": [
    "***CONVERTING INTO AN EXCEL FILE***"
   ]
  },
  {
   "cell_type": "code",
   "execution_count": 48,
   "id": "ecafd06e-a21a-4021-bb0c-aa445712acfe",
   "metadata": {},
   "outputs": [],
   "source": [
    "with pd.ExcelWriter(\"atliq_mart.xlsx\") as writer:\n",
    "   \n",
    "    # use to_excel function and specify the sheet_name and index \n",
    "    # to store the dataframe in specified sheet\n",
    "    customers.to_excel(writer, sheet_name=\"customers\", index=False)\n",
    "    products.to_excel(writer, sheet_name=\"products\", index=False)\n",
    "    target_orders.to_excel(writer, sheet_name=\"target_orders\", index=False)\n",
    "    order_lines.to_excel(writer, sheet_name=\"order_lines\", index=False)\n",
    "    orders_aggregate.to_excel(writer, sheet_name=\"orders_aggregate\", index=False)"
   ]
  }
 ],
 "metadata": {
  "kernelspec": {
   "display_name": "Python 3 (ipykernel)",
   "language": "python",
   "name": "python3"
  },
  "language_info": {
   "codemirror_mode": {
    "name": "ipython",
    "version": 3
   },
   "file_extension": ".py",
   "mimetype": "text/x-python",
   "name": "python",
   "nbconvert_exporter": "python",
   "pygments_lexer": "ipython3",
   "version": "3.11.3"
  }
 },
 "nbformat": 4,
 "nbformat_minor": 5
}
